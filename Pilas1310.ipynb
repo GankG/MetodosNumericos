{
  "nbformat": 4,
  "nbformat_minor": 0,
  "metadata": {
    "colab": {
      "name": "Pilas1310.ipynb",
      "provenance": [],
      "authorship_tag": "ABX9TyO0wkE/CdRC15Z5zbJA5SDB",
      "include_colab_link": true
    },
    "kernelspec": {
      "name": "python3",
      "display_name": "Python 3"
    },
    "language_info": {
      "name": "python"
    }
  },
  "cells": [
    {
      "cell_type": "markdown",
      "metadata": {
        "id": "view-in-github",
        "colab_type": "text"
      },
      "source": [
        "<a href=\"https://colab.research.google.com/github/GankG/MetodosNumericos/blob/main/Pilas1310.ipynb\" target=\"_parent\"><img src=\"https://colab.research.google.com/assets/colab-badge.svg\" alt=\"Open In Colab\"/></a>"
      ]
    },
    {
      "cell_type": "code",
      "metadata": {
        "id": "ZyYYH5Np_sYf"
      },
      "source": [
        "class StackADT:\n",
        "    def __init__( self ):\n",
        "        self.__data = list()\n",
        "\n",
        "    #regresa true si la pila está vcacia\n",
        "    def is_empty( self ):\n",
        "         return len( self.__data ) == 0\n",
        "\n",
        "    def get_length( self ):\n",
        "        return len( self.__data)\n",
        "\n",
        "    def pop( self ):\n",
        "        if self.is_empty():\n",
        "            print(\"Pila vacia, nada que sacar\")\n",
        "        else:\n",
        "            return self.__data.pop()\n",
        "\n",
        "    def peek( self ):\n",
        "        if self.is_empty():\n",
        "            print(\"Pila vacia, nada que sacar\")\n",
        "        else:\n",
        "            return self.__data[ -1 ]\n",
        "\n",
        "    def push( self, value ):\n",
        "        self.__data.append( value)\n",
        "\n",
        "    def to_string(self):\n",
        "        for item in self.__data[::-1]:\n",
        "            print(f\"| { item } |\")"
      ],
      "execution_count": 1,
      "outputs": []
    },
    {
      "cell_type": "code",
      "metadata": {
        "colab": {
          "base_uri": "https://localhost:8080/"
        },
        "id": "rIc6O6KUCRsV",
        "outputId": "6d0057e2-e6ca-4e3d-beeb-7aedba240113"
      },
      "source": [
        "pila = StackADT()\n",
        "print(\"Esta vacia? =\", pila.is_empty() )\n",
        "print(\"# elemnentos: \", pila.get_length() )\n",
        "pila.push(10)\n",
        "print(\"Esta vacia? =\", pila.is_empty() )\n",
        "print(\"# elemnentos: \", pila.get_length() )\n",
        "pila.push(20)\n",
        "pila.push(30)\n",
        "pila.push(40)\n",
        "pila.to_string()\n",
        "print( pila.pop() ) #40\n",
        "print( pila.peek() ) #30\n",
        "pila.to_string()"
      ],
      "execution_count": 2,
      "outputs": [
        {
          "output_type": "stream",
          "name": "stdout",
          "text": [
            "Esta vacia? = True\n",
            "# elemnentos:  0\n",
            "Esta vacia? = False\n",
            "# elemnentos:  1\n",
            "| 40 |\n",
            "| 30 |\n",
            "| 20 |\n",
            "| 10 |\n",
            "40\n",
            "30\n",
            "| 30 |\n",
            "| 20 |\n",
            "| 10 |\n"
          ]
        }
      ]
    },
    {
      "cell_type": "markdown",
      "metadata": {
        "id": "-NajSj20CT6U"
      },
      "source": [
        "# Aplicacion de pilas, balanceo de llaves en programacion"
      ]
    },
    {
      "cell_type": "code",
      "metadata": {
        "id": "PvZd7AUFCYDE"
      },
      "source": [
        "!cat prog.txt"
      ],
      "execution_count": null,
      "outputs": []
    },
    {
      "cell_type": "code",
      "metadata": {
        "colab": {
          "base_uri": "https://localhost:8080/"
        },
        "id": "vre9bgdcCgr0",
        "outputId": "2fe7f28a-36e2-4440-c0ba-c2d0259b07dc"
      },
      "source": [
        "entrada = open('prog.txt' , 'rt')\n",
        "codigo = entrada.read()\n",
        "#print(codigo)\n",
        "pilaControl = StackADT()\n",
        "pilaControl.push(\"#\") # Caracter de pila vacia\n",
        "\n",
        "for letra in codigo:\n",
        "    #print(f\"---> { letra } <---\")\n",
        "    if letra == '{':    #Regla 1\n",
        "        pilaControl.push(\"{\")\n",
        "    elif letra == '}':  #Regla 2\n",
        "        basura = pilaControl.pop()\n",
        "    else:\n",
        "        pass\n",
        "\n",
        "#Nota: Este  codigo aun no contempla desbalanceo\n",
        "if pilaControl.peek() == '#':\n",
        "    print(\"El codigo proporcionado esta correctamnete balanceado\")\n",
        "else:\n",
        "    print(\"El codigo no esta balanceado en llaves { y } \")"
      ],
      "execution_count": 3,
      "outputs": [
        {
          "output_type": "stream",
          "name": "stdout",
          "text": [
            "El codigo proporcionado esta correctamnete balanceado\n"
          ]
        }
      ]
    },
    {
      "cell_type": "markdown",
      "metadata": {
        "id": "v8OB35TSCjKL"
      },
      "source": [
        "# Aplicacion de Pilas\n",
        "# Estrategía de diseños de algoritmos BACKTRACKING"
      ]
    }
  ]
}