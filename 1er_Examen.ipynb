{
  "nbformat": 4,
  "nbformat_minor": 0,
  "metadata": {
    "colab": {
      "name": "1er Examen.ipynb",
      "provenance": [],
      "collapsed_sections": [],
      "authorship_tag": "ABX9TyNgixYxiL++hg4eEYN7ZaWW",
      "include_colab_link": true
    },
    "kernelspec": {
      "name": "python3",
      "display_name": "Python 3"
    },
    "language_info": {
      "name": "python"
    }
  },
  "cells": [
    {
      "cell_type": "markdown",
      "metadata": {
        "id": "view-in-github",
        "colab_type": "text"
      },
      "source": [
        "<a href=\"https://colab.research.google.com/github/GankG/MetodosNumericos/blob/main/1er_Examen.ipynb\" target=\"_parent\"><img src=\"https://colab.research.google.com/assets/colab-badge.svg\" alt=\"Open In Colab\"/></a>"
      ]
    },
    {
      "cell_type": "code",
      "metadata": {
        "id": "95UmYtsxvh-2"
      },
      "source": [
        "class Nodo:\n",
        "    def __init__(self, value, siguiente = None ):\n",
        "        self.data = value\n",
        "        self.next = siguiente"
      ],
      "execution_count": 10,
      "outputs": []
    },
    {
      "cell_type": "code",
      "metadata": {
        "id": "aKn8iq0Qxn5z"
      },
      "source": [
        "class LinkedList:\n",
        "    def __init__(self):\n",
        "        self.head = None\n",
        "\n",
        "    #método para comprobar si está vacía la lista\n",
        "    def is_empty(self):\n",
        "        return self.head == None\n",
        "\n",
        "    #Obtener el elemento de la cola de la lista\n",
        "    def get_tail(self):\n",
        "        if self.is_empty():\n",
        "            return None\n",
        "        else:\n",
        "            curr_node = self.head\n",
        "            while curr_node.next != None:\n",
        "                curr_node = curr_node.next\n",
        "            return curr_node\n",
        "\n",
        "    #ingresar un elemento al final de la lista\n",
        "    def append(self , value):\n",
        "        if self.head == None:\n",
        "            self.head = Nodo( value )\n",
        "        else:\n",
        "            curr_node =self.head\n",
        "            while curr_node.next !=None:\n",
        "                curr_node = curr_node.next\n",
        "            curr_node.next = Nodo( value )    \n",
        "\n",
        "    #Imprimir la lista desde el primer valor\n",
        "    def transversal(self):\n",
        "        curr_node = self.head\n",
        "        while curr_node !=None:\n",
        "            print(f\"| { curr_node.data} | -> \", end=\"\")\n",
        "            curr_node = curr_node.next\n",
        "        print(\"\")\n",
        "\n",
        "    #quitar x elemento de la lsita\n",
        "    def remove(self , value):\n",
        "        if self.head == None:\n",
        "            print(\"La lista está vacía, no se puede quitar nada.\")\n",
        "        else:\n",
        "            curr_node = self.head\n",
        "            aux= None\n",
        "            while curr_node.data != value :\n",
        "                aux= curr_node\n",
        "                curr_node = curr_node.next\n",
        "\n",
        "            if curr_node != None:\n",
        "                  aux.next = curr_node.next  \n",
        "                  curr_node = None\n",
        "\n",
        "    #Metodo para añadir un elemento despu es de x elemento\n",
        "    def add_after(self, prev, dato):\n",
        "      curr_node = self.head\n",
        "      while curr_node != None:\n",
        "        if curr_node.data == prev:\n",
        "          tmp = curr_node.next\n",
        "          curr_node.next = Nodo(dato,tmp)\n",
        "          break\n",
        "        curr_node = curr_node.next"
      ],
      "execution_count": 11,
      "outputs": []
    },
    {
      "cell_type": "code",
      "metadata": {
        "colab": {
          "base_uri": "https://localhost:8080/"
        },
        "id": "J3JFNyEhwzg0",
        "outputId": "48c0f1d5-8d74-46ee-a163-67c71ebba888"
      },
      "source": [
        "#Crear el objeto lista ligada\n",
        "lista = LinkedList()\n",
        "#Ingresar los valores 40, 50, 55 y 65.\n",
        "lista.append(40)\n",
        "lista.append(50)\n",
        "lista.append(55)\n",
        "lista.append(65)\n",
        "\n",
        "#comrpobar que la lista no está vacía\n",
        "print(f\"La lista está vacía: {lista.is_empty()}\\n\")\n",
        "\n",
        "#Imprimir la lista como fue dada originalmente\n",
        "print(\"La lista otorgada (normal): \")\n",
        "lista.transversal()\n",
        "\n",
        "#Ingresar 40 después de 40\n",
        "lista.add_after(40,45)\n",
        "\n",
        "print(\"\\n La lista después de ingresar el Nodo 45 después del 40, y antes del 50\")\n",
        "lista.transversal()\n",
        "\n",
        "#Ingresar 60 después de 55\n",
        "lista.add_after(55,60)\n",
        "print(\"\\n La lista después de ingresar el Nodo 60 después del 55, y antes del 65\")\n",
        "lista.transversal()\n",
        "#Quitar el nodo 65\n",
        "lista.remove(65);\n",
        "\n",
        "print(\"\\nLa lista después de eliminar el Nodo 65: \")\n",
        "lista.transversal()"
      ],
      "execution_count": 12,
      "outputs": [
        {
          "output_type": "stream",
          "name": "stdout",
          "text": [
            "La lista está vacía: False\n",
            "\n",
            "La lista otorgada (normal): \n",
            "| 40 | -> | 50 | -> | 55 | -> | 65 | -> \n",
            "\n",
            " La lista después de ingresar el Nodo 45 después del 40, y antes del 50\n",
            "| 40 | -> | 45 | -> | 50 | -> | 55 | -> | 65 | -> \n",
            "\n",
            " La lista después de ingresar el Nodo 60 después del 55, y antes del 65\n",
            "| 40 | -> | 45 | -> | 50 | -> | 55 | -> | 60 | -> | 65 | -> \n",
            "\n",
            "La lista después de eliminar el Nodo 65: \n",
            "| 40 | -> | 45 | -> | 50 | -> | 55 | -> | 60 | -> \n"
          ]
        }
      ]
    }
  ]
}