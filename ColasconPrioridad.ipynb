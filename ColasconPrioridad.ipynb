{
  "nbformat": 4,
  "nbformat_minor": 0,
  "metadata": {
    "colab": {
      "name": "ColasconPrioridad.ipynb",
      "provenance": [],
      "authorship_tag": "ABX9TyOWvXET3TB0R3bT460xgPF9",
      "include_colab_link": true
    },
    "kernelspec": {
      "name": "python3",
      "display_name": "Python 3"
    },
    "language_info": {
      "name": "python"
    }
  },
  "cells": [
    {
      "cell_type": "markdown",
      "metadata": {
        "id": "view-in-github",
        "colab_type": "text"
      },
      "source": [
        "<a href=\"https://colab.research.google.com/github/GankG/MetodosNumericos/blob/main/ColasconPrioridad.ipynb\" target=\"_parent\"><img src=\"https://colab.research.google.com/assets/colab-badge.svg\" alt=\"Open In Colab\"/></a>"
      ]
    },
    {
      "cell_type": "code",
      "metadata": {
        "id": "2-biFeMCa0iZ"
      },
      "source": [
        "class Queue:\n",
        "    def __init__( self ):\n",
        "        self.data = []\n",
        "\n",
        "    def is_empty( self ):\n",
        "         return len( self.data ) == 0\n",
        "\n",
        "    def length( self ):\n",
        "         return len( self.data )\n",
        "\n",
        "    def enqueue( self, value ):\n",
        "        self.data.append( value ) \n",
        "\n",
        "    def dequeue( self ):\n",
        "        if self.is_empty():\n",
        "            print(\"No se pueden quitar elementos, la cola está vacía\")\n",
        "        else:     \n",
        "            return self.data.pop(0)\n",
        "\n",
        "    def to_string( self ):\n",
        "        for elem in self.data:\n",
        "            print(f\"| { elem } | <--\", end=\"\" )\n",
        "        print(\"\")"
      ],
      "execution_count": 1,
      "outputs": []
    },
    {
      "cell_type": "code",
      "metadata": {
        "id": "lTcU8Q26a2jO"
      },
      "source": [
        "class BoundedPriorityQueue:\n",
        "    def __init__( self, niveles ):\n",
        "        self.__data = [Queue() for x in range(niveles)]\n",
        "        #self.__data = Array(niveles)\n",
        "        #self.__data.clear( Queue() )\n",
        "        self.__size = 0\n",
        "        \n",
        "    def is_empty( self ):\n",
        "         return self.__size == 0\n",
        "\n",
        "    def length( self ):\n",
        "         return self.__size\n",
        "\n",
        "    def enqueue( self, prioridad, elem):\n",
        "        if prioridad < len( self.__data) \\\n",
        "           and prioridad >= 0:\n",
        "           self.__data[ prioridad ].enqueue( elem )\n",
        "           self.__size +=1\n",
        "\n",
        "    def dequeue( self ):\n",
        "        nivel = 0\n",
        "        while self.__data[nivel].is_empty() \\\n",
        "              and nivel < self.length():\n",
        "            nivel +=1\n",
        "\n",
        "        if nivel >= self.length():\n",
        "            print(\"Cola esta vacia\")\n",
        "        else:\n",
        "            return self.__data[ nivel ].dequeue()\n",
        "\n",
        "    def to_string( self ):\n",
        "        prioridad = 0\n",
        "        for cola in self.__data:\n",
        "            print(f\"Prioridad {prioridad} ->\", end=\"\")\n",
        "            if not cola.is_empty():\n",
        "                cola.to_string()"
      ],
      "execution_count": 2,
      "outputs": []
    },
    {
      "cell_type": "code",
      "metadata": {
        "colab": {
          "base_uri": "https://localhost:8080/"
        },
        "id": "pHZsMBTGa43m",
        "outputId": "e9f3be22-c046-451a-a9b3-8d09854f732d"
      },
      "source": [
        "salvavidas = BoundedPriorityQueue( 7 )\n",
        "salvavidas.enqueue( 4 , \"Maestro  \")\n",
        "salvavidas.enqueue( 1 , \"Niños\")\n",
        "salvavidas.enqueue( 4 , \"Mecanico\")\n",
        "salvavidas.enqueue( 3 , \"Mujeres\")\n",
        "salvavidas.enqueue( 2 , \"Tercera Edad\")\n",
        "salvavidas.enqueue( 1 , \"Niñas\")\n",
        "salvavidas.enqueue( 3 , \"Hombres\")\n",
        "salvavidas.enqueue( 4 , \"Vigia\")\n",
        "salvavidas.enqueue( 5 , \"Capitan\")\n",
        "salvavidas.enqueue( 4 , \"Timonel\")\n",
        "salvavidas.to_string()\n",
        "sig = salvavidas.dequeue()\n",
        "print(f\"Subiendo { sig } al bote salvavidas\")\n",
        "salvavidas.to_string()"
      ],
      "execution_count": 3,
      "outputs": [
        {
          "output_type": "stream",
          "name": "stdout",
          "text": [
            "Prioridad 0 ->Prioridad 0 ->| niños | <--| niñas | <--\n",
            "Prioridad 0 ->| tercera edad | <--\n",
            "Prioridad 0 ->| mujeres | <--| hombres | <--\n",
            "Prioridad 0 ->| maestre | <--| mecanico | <--| vigia | <--| timonel | <--\n",
            "Prioridad 0 ->| capitan | <--\n",
            "Prioridad 0 ->Subiendo niños al bote salvavidas\n",
            "Prioridad 0 ->Prioridad 0 ->| niñas | <--\n",
            "Prioridad 0 ->| tercera edad | <--\n",
            "Prioridad 0 ->| mujeres | <--| hombres | <--\n",
            "Prioridad 0 ->| maestre | <--| mecanico | <--| vigia | <--| timonel | <--\n",
            "Prioridad 0 ->| capitan | <--\n",
            "Prioridad 0 ->"
          ]
        }
      ]
    },
    {
      "cell_type": "code",
      "metadata": {
        "id": "HdXP9lTha8l9"
      },
      "source": [
        "#implementacion de las colas de prioridad sin acontamientos \n",
        "\n",
        "class PriorityQueue:\n",
        "    def __init__(self):\n",
        "        self.__data =[]\n",
        "        self.__size = 0\n",
        "\n",
        "    def is_empty( self ):\n",
        "         return self.__size == 0\n",
        "\n",
        "    def length( self ):\n",
        "         return self.__size\n",
        "\n",
        "    def enqueue(self , prioridad , elem ):\n",
        "        existe = False\n",
        "        indice = 0\n",
        "        for index in range(len(self.__data)):\n",
        "            if self.__data[index][ \"Prioridad\" ] == prioridad:\n",
        "                existe = True\n",
        "                indice = index\n",
        "        \n",
        "        if existe:\n",
        "            self.__data[indice][\"Cola\"].enqueue(elem)\n",
        "        else:\n",
        "            self.__data.append( {\"Prioridad\":prioridad , \"Cola\": Queue() } )\n",
        "            self.__data[-1][\"Cola\"].enqueue(elem)\n",
        "\n",
        "    def to_string( self ):\n",
        "        for cola in self.__data:\n",
        "            cola[\"Cola\"].to_string()"
      ],
      "execution_count": 4,
      "outputs": []
    },
    {
      "cell_type": "code",
      "metadata": {
        "colab": {
          "base_uri": "https://localhost:8080/"
        },
        "id": "3SkqKTW2a96m",
        "outputId": "1852cbfd-e55c-4c16-9f41-0781721e70a8"
      },
      "source": [
        "cp = PriorityQueue()\n",
        "cp.enqueue(1,\"Niñas\")\n",
        "cp.enqueue(2,\"Niños\")\n",
        "cp.to_string()"
      ],
      "execution_count": 5,
      "outputs": [
        {
          "output_type": "stream",
          "name": "stdout",
          "text": [
            "| niñas | <--\n",
            "| niños | <--\n"
          ]
        }
      ]
    }
  ]
}